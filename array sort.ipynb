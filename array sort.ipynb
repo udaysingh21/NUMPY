{
 "cells": [
  {
   "cell_type": "markdown",
   "metadata": {},
   "source": [
    "# Sorting arrays  \n",
    "*Sorting means putting elements in an ordered sequence.*  \n",
    "*Ordered Sequence is any sequence that has an order corresponding to elements, like numeric or alphabet or ascending or descending.*  \n",
    "*Sorting can be done using sort()*  "
   ]
  },
  {
   "cell_type": "code",
   "execution_count": 10,
   "metadata": {},
   "outputs": [],
   "source": [
    "import numpy as np"
   ]
  },
  {
   "cell_type": "markdown",
   "metadata": {},
   "source": [
    "**Note :** *sort() returns None , it means sort() gives copy of original arr, leaving original array unaffected by any changes*"
   ]
  },
  {
   "cell_type": "code",
   "execution_count": 11,
   "metadata": {},
   "outputs": [
    {
     "name": "stdout",
     "output_type": "stream",
     "text": [
      "[-3  2  5 18 40]\n",
      "None\n"
     ]
    }
   ],
   "source": [
    "arr=np.array([18,2,-3,40,5])\n",
    "sortedarr=np.sort(arr)\n",
    "print(sortedarr)\n",
    "print(sortedarr.base) "
   ]
  },
  {
   "cell_type": "markdown",
   "metadata": {},
   "source": [
    "**String array**"
   ]
  },
  {
   "cell_type": "code",
   "execution_count": 12,
   "metadata": {},
   "outputs": [
    {
     "name": "stdout",
     "output_type": "stream",
     "text": [
      "['apples' 'guava' 'kiwi' 'oranges']\n"
     ]
    }
   ],
   "source": [
    "fruits=np.array(['guava','kiwi','oranges','apples'])\n",
    "sortedfruits=np.sort(fruits)\n",
    "print(sortedfruits)"
   ]
  },
  {
   "cell_type": "markdown",
   "metadata": {},
   "source": [
    "**Boolean array**"
   ]
  },
  {
   "cell_type": "code",
   "execution_count": 13,
   "metadata": {},
   "outputs": [
    {
     "name": "stdout",
     "output_type": "stream",
     "text": [
      "[False False False  True  True]\n"
     ]
    }
   ],
   "source": [
    "boolean=np.array([True,False,False,True,False])\n",
    "print(np.sort(boolean))"
   ]
  },
  {
   "cell_type": "markdown",
   "metadata": {},
   "source": [
    "**2-d array**"
   ]
  },
  {
   "cell_type": "code",
   "execution_count": 14,
   "metadata": {},
   "outputs": [
    {
     "name": "stdout",
     "output_type": "stream",
     "text": [
      "[[-1  3 20]\n",
      " [-5 16 40]]\n"
     ]
    }
   ],
   "source": [
    "matrix=np.array([[-1,20,3],[40,-5,16]])\n",
    "print(np.sort(matrix))"
   ]
  }
 ],
 "metadata": {
  "kernelspec": {
   "display_name": "Python 3",
   "language": "python",
   "name": "python3"
  },
  "language_info": {
   "codemirror_mode": {
    "name": "ipython",
    "version": 3
   },
   "file_extension": ".py",
   "mimetype": "text/x-python",
   "name": "python",
   "nbconvert_exporter": "python",
   "pygments_lexer": "ipython3",
   "version": "3.10.9"
  }
 },
 "nbformat": 4,
 "nbformat_minor": 2
}
