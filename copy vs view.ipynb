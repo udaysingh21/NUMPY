{
 "cells": [
  {
   "cell_type": "markdown",
   "metadata": {},
   "source": [
    "# The difference between copy and view  \n",
    "*The main difference b/w copy and view of an array is that copy is a new array and view is just the view of original array.*  \n",
    "*The copy owns the data and any changes made to copy will not affect original array and any changes made to original array will not affect copy.*  \n",
    "*The view does not owns the data and any changes made to view will affect original array and any changes made to original array will affect view.*"
   ]
  },
  {
   "cell_type": "markdown",
   "metadata": {},
   "source": [
    "**COPY**"
   ]
  },
  {
   "cell_type": "code",
   "execution_count": 14,
   "metadata": {},
   "outputs": [],
   "source": [
    "import numpy as np"
   ]
  },
  {
   "cell_type": "code",
   "execution_count": 15,
   "metadata": {},
   "outputs": [
    {
     "name": "stdout",
     "output_type": "stream",
     "text": [
      "[1 2 3 4 5]\n",
      "[1 2 3 4 5]\n"
     ]
    }
   ],
   "source": [
    "arr=np.array([1,2,3,4,5])\n",
    "x=arr.copy()\n",
    "print(arr)\n",
    "print(x)"
   ]
  },
  {
   "cell_type": "code",
   "execution_count": 16,
   "metadata": {},
   "outputs": [
    {
     "name": "stdout",
     "output_type": "stream",
     "text": [
      "[10  2  3  4  5]\n",
      "[1 2 3 4 5]\n"
     ]
    }
   ],
   "source": [
    "x[0]=10\n",
    "print(x)\n",
    "print(arr)"
   ]
  },
  {
   "cell_type": "code",
   "execution_count": 17,
   "metadata": {},
   "outputs": [
    {
     "name": "stdout",
     "output_type": "stream",
     "text": [
      "[89  2  3  4  5]\n",
      "[10  2  3  4  5]\n"
     ]
    }
   ],
   "source": [
    "arr[0]=89\n",
    "print(arr)\n",
    "print(x)"
   ]
  },
  {
   "cell_type": "code",
   "execution_count": 18,
   "metadata": {},
   "outputs": [
    {
     "name": "stdout",
     "output_type": "stream",
     "text": [
      "None\n",
      "None\n"
     ]
    }
   ],
   "source": [
    "# base is an attribute of Numpy array that returns None if arrays owns data otherwise refers to original object.\n",
    "print(arr.base)\n",
    "print(x.base) # since x is a copy, so it returns None "
   ]
  },
  {
   "cell_type": "markdown",
   "metadata": {},
   "source": [
    "**VIEW**"
   ]
  },
  {
   "cell_type": "code",
   "execution_count": 19,
   "metadata": {},
   "outputs": [
    {
     "name": "stdout",
     "output_type": "stream",
     "text": [
      "[1 2 3 4 5]\n",
      "[1 2 3 4 5]\n"
     ]
    }
   ],
   "source": [
    "array=np.array([1,2,3,4,5])\n",
    "x=array.view()\n",
    "print(array)\n",
    "print(x)"
   ]
  },
  {
   "cell_type": "code",
   "execution_count": 20,
   "metadata": {},
   "outputs": [
    {
     "name": "stdout",
     "output_type": "stream",
     "text": [
      "[10  2  3  4  5]\n",
      "[10  2  3  4  5]\n"
     ]
    }
   ],
   "source": [
    "array[0]=10\n",
    "print(array)\n",
    "print(x)"
   ]
  },
  {
   "cell_type": "code",
   "execution_count": 21,
   "metadata": {},
   "outputs": [
    {
     "name": "stdout",
     "output_type": "stream",
     "text": [
      "[29  2  3  4  5]\n",
      "[29  2  3  4  5]\n"
     ]
    }
   ],
   "source": [
    "x[0]=29\n",
    "print(x)\n",
    "print(array)"
   ]
  },
  {
   "cell_type": "code",
   "execution_count": 22,
   "metadata": {},
   "outputs": [
    {
     "name": "stdout",
     "output_type": "stream",
     "text": [
      "None\n",
      "[29  2  3  4  5]\n"
     ]
    }
   ],
   "source": [
    "# base is an attribute of Numpy array that returns None if array owns the data, otherwise returns the object that owns the data or original object.\n",
    "print(array.base)\n",
    "print(x.base) # since x is a view it returns original object"
   ]
  }
 ],
 "metadata": {
  "kernelspec": {
   "display_name": "Python 3",
   "language": "python",
   "name": "python3"
  },
  "language_info": {
   "codemirror_mode": {
    "name": "ipython",
    "version": 3
   },
   "file_extension": ".py",
   "mimetype": "text/x-python",
   "name": "python",
   "nbconvert_exporter": "python",
   "pygments_lexer": "ipython3",
   "version": "3.10.9"
  }
 },
 "nbformat": 4,
 "nbformat_minor": 2
}
