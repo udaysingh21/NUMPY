{
 "cells": [
  {
   "cell_type": "markdown",
   "metadata": {},
   "source": [
    "# NUMPY"
   ]
  },
  {
   "cell_type": "markdown",
   "metadata": {},
   "source": [
    "*It is a python library, used for working with arrays*  \n",
    "*Numpy is an acronym for Numerical Python*  \n",
    "*It also has a function for working in domain of Linear Algebra, Fourier Transform, and Matrices.*  \n",
    "*It was created by Travis Oliphant in year 2005.*  "
   ]
  },
  {
   "cell_type": "markdown",
   "metadata": {},
   "source": [
    "**Why use NUMPY ?**  \n",
    "\n",
    "*In python, we have list that serves the purpose of arrays, but they are very slow to process.*  \n",
    "*Numpy provides an array object that is 50 times faster than traditional Python list.*\n",
    "*The array object in Numpy is called ndarray, it provides a lot of supporting functions that makes working with ndarray very easy.*"
   ]
  },
  {
   "cell_type": "markdown",
   "metadata": {},
   "source": [
    "**Why is Numpy faster than list ?**  \n",
    "\n",
    "*Numpy are stored at one place in memory unlike list, so processes can access and manipulate them very efficiently.*  \n",
    "*This behaviour is called Locality of reference, and this is main reason why numpy is faster than list.*  \n",
    "*Also, it is optimised to work with latest CPU architecture.*"
   ]
  },
  {
   "cell_type": "markdown",
   "metadata": {},
   "source": [
    "**Which language is Numpy written in ?**  \n",
    "\n",
    "*Numpy is a Python library and is partially written in Python, but most of the parts that require fast computation are written in C or C++*"
   ]
  },
  {
   "cell_type": "code",
   "execution_count": 2,
   "metadata": {},
   "outputs": [],
   "source": [
    "import numpy as np"
   ]
  },
  {
   "cell_type": "code",
   "execution_count": 3,
   "metadata": {},
   "outputs": [
    {
     "name": "stdout",
     "output_type": "stream",
     "text": [
      "1.24.3\n"
     ]
    }
   ],
   "source": [
    "print(np.__version__)"
   ]
  },
  {
   "cell_type": "code",
   "execution_count": 5,
   "metadata": {},
   "outputs": [
    {
     "name": "stdout",
     "output_type": "stream",
     "text": [
      "[1 2 3 4 5]\n",
      "<class 'numpy.ndarray'>\n",
      "(5,)\n"
     ]
    }
   ],
   "source": [
    "arr=np.array([1,2,3,4,5])\n",
    "print(arr)\n",
    "print(type(arr))\n",
    "print(arr.shape) # (5,) it signifies that arr is a 1-d array with a length 5 or 1-d numpy array with 5 elements."
   ]
  }
 ],
 "metadata": {
  "kernelspec": {
   "display_name": "Python 3",
   "language": "python",
   "name": "python3"
  },
  "language_info": {
   "codemirror_mode": {
    "name": "ipython",
    "version": 3
   },
   "file_extension": ".py",
   "mimetype": "text/x-python",
   "name": "python",
   "nbconvert_exporter": "python",
   "pygments_lexer": "ipython3",
   "version": "3.10.9"
  }
 },
 "nbformat": 4,
 "nbformat_minor": 2
}
