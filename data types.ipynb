{
 "cells": [
  {
   "cell_type": "markdown",
   "metadata": {},
   "source": [
    "# DATAYPES  \n",
    "*Datatype defines what type of data will be stored in the variable.*  \n",
    "\n",
    "**Some common data types :**  \n",
    "*strings, integer, float, boolean, complex*  \n",
    "*i, b, u, f, c, m, M, O, S, U, V*"
   ]
  },
  {
   "cell_type": "markdown",
   "metadata": {},
   "source": [
    "**Checking the datatype**"
   ]
  },
  {
   "cell_type": "code",
   "execution_count": 2,
   "metadata": {},
   "outputs": [],
   "source": [
    "import numpy as np "
   ]
  },
  {
   "cell_type": "code",
   "execution_count": 5,
   "metadata": {},
   "outputs": [
    {
     "name": "stdout",
     "output_type": "stream",
     "text": [
      "int32\n"
     ]
    }
   ],
   "source": [
    "arr=np.array([1,2,3,4,5,6])\n",
    "print(arr.dtype)"
   ]
  },
  {
   "cell_type": "code",
   "execution_count": 12,
   "metadata": {},
   "outputs": [
    {
     "name": "stdout",
     "output_type": "stream",
     "text": [
      "<U11\n"
     ]
    }
   ],
   "source": [
    "arr1=np.array([1,2,3,4,'a'])\n",
    "print(arr1.dtype) # Unicode string with a maximum length of 11  and U11 is a subset of string datatype."
   ]
  },
  {
   "cell_type": "code",
   "execution_count": 14,
   "metadata": {},
   "outputs": [
    {
     "name": "stdout",
     "output_type": "stream",
     "text": [
      "<U10\n"
     ]
    }
   ],
   "source": [
    "fruits=np.array(['apple','banana','cherry','grapes','watermelon'])\n",
    "print(fruits.dtype)"
   ]
  },
  {
   "cell_type": "markdown",
   "metadata": {},
   "source": [
    "**Creating arrays with defined datatype**"
   ]
  },
  {
   "cell_type": "code",
   "execution_count": 16,
   "metadata": {},
   "outputs": [
    {
     "name": "stdout",
     "output_type": "stream",
     "text": [
      "[1. 2. 3. 4. 5.]\n",
      "float32\n"
     ]
    }
   ],
   "source": [
    "array=np.array([1,2,3,4,5],dtype='f')\n",
    "print(array)\n",
    "print(array.dtype)"
   ]
  },
  {
   "cell_type": "code",
   "execution_count": 24,
   "metadata": {},
   "outputs": [
    {
     "name": "stdout",
     "output_type": "stream",
     "text": [
      "[1. 2. 3. 4. 5.]\n",
      "float16\n"
     ]
    }
   ],
   "source": [
    "array=np.array([1,2,3,4,5],dtype='float16')\n",
    "print(array)\n",
    "print(array.dtype)"
   ]
  },
  {
   "cell_type": "code",
   "execution_count": 28,
   "metadata": {},
   "outputs": [
    {
     "name": "stdout",
     "output_type": "stream",
     "text": [
      "[b'1' b'2' b'3' b'4' b'5']\n",
      "|S1\n"
     ]
    }
   ],
   "source": [
    "array=np.array([1,2,3,4,5],dtype='S')\n",
    "print(array)\n",
    "print(array.dtype)"
   ]
  },
  {
   "cell_type": "markdown",
   "metadata": {},
   "source": [
    "**Note :**  \n",
    "*dtype='str' represents Unicode strings of variable length. Each element is a string and length of each string can vary.*  \n",
    "*dtype='S' represents byte strings of fixed length. Each element is a byte string and length of each string is fixed.*"
   ]
  },
  {
   "cell_type": "code",
   "execution_count": 30,
   "metadata": {},
   "outputs": [],
   "source": [
    "# array=np.array(['1','2','a'],dtype='i') # A non-integer like 'a' cannot be converted to integer, it will raise an error\n",
    "# print(array)"
   ]
  },
  {
   "cell_type": "markdown",
   "metadata": {},
   "source": [
    "**Converting Datatype of Existing arrays**  \n",
    "*USING   astype('datatype') method*"
   ]
  },
  {
   "cell_type": "code",
   "execution_count": 37,
   "metadata": {},
   "outputs": [
    {
     "name": "stdout",
     "output_type": "stream",
     "text": [
      "int32\n",
      "float32\n",
      "|S11\n",
      "bool\n",
      "[ True  True  True  True  True]\n"
     ]
    }
   ],
   "source": [
    "array=np.array([1,2,3,4,5])\n",
    "print(array.dtype)\n",
    "\n",
    "newarray=array.astype('f')\n",
    "print(newarray.dtype)\n",
    "\n",
    "newarray1=array.astype('S')\n",
    "print(newarray1.dtype)\n",
    "\n",
    "newarray2=array.astype(bool)\n",
    "print(newarray2.dtype)\n",
    "print(newarray2)"
   ]
  }
 ],
 "metadata": {
  "kernelspec": {
   "display_name": "Python 3",
   "language": "python",
   "name": "python3"
  },
  "language_info": {
   "codemirror_mode": {
    "name": "ipython",
    "version": 3
   },
   "file_extension": ".py",
   "mimetype": "text/x-python",
   "name": "python",
   "nbconvert_exporter": "python",
   "pygments_lexer": "ipython3",
   "version": "3.10.9"
  }
 },
 "nbformat": 4,
 "nbformat_minor": 2
}
