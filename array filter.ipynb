{
 "cells": [
  {
   "cell_type": "markdown",
   "metadata": {},
   "source": [
    "# Numpy Filter Array  \n",
    "*Filtering is the process of getting some elements out of an existing array and make a new array out of them.*  \n",
    "*In numpy you can filter the array using boolean Indexing list.*"
   ]
  },
  {
   "cell_type": "markdown",
   "metadata": {},
   "source": [
    "*A boolean indexing list is a list of booleans corresponding to particular index.*  \n",
    "*If value at that index is True, then that elements is contained in the filter array and if value at that index is False, then that element is not contained in the filter array.*"
   ]
  },
  {
   "cell_type": "markdown",
   "metadata": {},
   "source": [
    "**Hard coded Filter array**"
   ]
  },
  {
   "cell_type": "code",
   "execution_count": 9,
   "metadata": {},
   "outputs": [],
   "source": [
    "import numpy as np"
   ]
  },
  {
   "cell_type": "code",
   "execution_count": 10,
   "metadata": {},
   "outputs": [
    {
     "name": "stdout",
     "output_type": "stream",
     "text": [
      "[1 4 6]\n"
     ]
    }
   ],
   "source": [
    "arr=np.array([1,2,3,4,5,6])\n",
    "filter_arr=[True,False,False,True,False,True]\n",
    "\n",
    "newarr=arr[filter_arr]\n",
    "print(newarr)"
   ]
  },
  {
   "cell_type": "markdown",
   "metadata": {},
   "source": [
    "**Creating the filter array**"
   ]
  },
  {
   "cell_type": "code",
   "execution_count": 11,
   "metadata": {},
   "outputs": [
    {
     "name": "stdout",
     "output_type": "stream",
     "text": [
      "[False, False, True, True, True]\n",
      "[35 27 26]\n"
     ]
    }
   ],
   "source": [
    "age=np.array([21,24,35,27,26])\n",
    "\n",
    "filter_arr=[]\n",
    "\n",
    "for val in np.nditer(age):\n",
    "    if val>25:\n",
    "        filter_arr.append(True)\n",
    "    else:\n",
    "        filter_arr.append(False)\n",
    "\n",
    "print(filter_arr)\n",
    "\n",
    "newarr=age[filter_arr]\n",
    "print(newarr)"
   ]
  },
  {
   "cell_type": "markdown",
   "metadata": {},
   "source": [
    "**Create a filter array that will only return even numbers**"
   ]
  },
  {
   "cell_type": "code",
   "execution_count": 12,
   "metadata": {},
   "outputs": [
    {
     "name": "stdout",
     "output_type": "stream",
     "text": [
      "[True, False, True, False, True, True, False]\n",
      "[12  2 66 46]\n"
     ]
    }
   ],
   "source": [
    "number=np.array([12,17,2,9,66,46,9])\n",
    "\n",
    "even=[]\n",
    "for val in np.nditer(number):\n",
    "    if val%2==0:\n",
    "        even.append(True)\n",
    "    else:\n",
    "        even.append(False)\n",
    "\n",
    "print(even)\n",
    "\n",
    "evenarr=number[even]\n",
    "print(evenarr)"
   ]
  },
  {
   "cell_type": "markdown",
   "metadata": {},
   "source": [
    "**Creating filter directly from array**"
   ]
  },
  {
   "cell_type": "code",
   "execution_count": 13,
   "metadata": {},
   "outputs": [
    {
     "name": "stdout",
     "output_type": "stream",
     "text": [
      "[ True False  True False False  True]\n",
      "[29  7  9]\n"
     ]
    }
   ],
   "source": [
    "number1=np.array([29,14,7,18,8,9])\n",
    "\n",
    "filter_arr1=number1%2==1\n",
    "print(filter_arr1)\n",
    "\n",
    "newarr=number1[filter_arr1]\n",
    "print(newarr)"
   ]
  },
  {
   "cell_type": "code",
   "execution_count": 14,
   "metadata": {},
   "outputs": [
    {
     "name": "stdout",
     "output_type": "stream",
     "text": [
      "[False  True  True  True  True False]\n",
      "[167 178 181 166]\n"
     ]
    }
   ],
   "source": [
    "height=np.array([150,167,178,181,166,158])\n",
    "\n",
    "filter=height>160\n",
    "print(filter)\n",
    "\n",
    "newarr=height[filter]\n",
    "print(newarr)"
   ]
  }
 ],
 "metadata": {
  "kernelspec": {
   "display_name": "Python 3",
   "language": "python",
   "name": "python3"
  },
  "language_info": {
   "codemirror_mode": {
    "name": "ipython",
    "version": 3
   },
   "file_extension": ".py",
   "mimetype": "text/x-python",
   "name": "python",
   "nbconvert_exporter": "python",
   "pygments_lexer": "ipython3",
   "version": "3.10.9"
  }
 },
 "nbformat": 4,
 "nbformat_minor": 2
}
