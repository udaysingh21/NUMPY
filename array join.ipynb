{
 "cells": [
  {
   "cell_type": "markdown",
   "metadata": {},
   "source": [
    "# Joining Numpy arrays  \n",
    "*Joining means putting contents of two or more arrays in single array*  \n",
    "*We pass sequence of arrays that we want to join to the concatenate() function, along with the aixs, if aixs is not explicitly passed, it is taken as 0.*"
   ]
  },
  {
   "cell_type": "code",
   "execution_count": 16,
   "metadata": {},
   "outputs": [],
   "source": [
    "import numpy as np"
   ]
  },
  {
   "cell_type": "code",
   "execution_count": 17,
   "metadata": {},
   "outputs": [
    {
     "name": "stdout",
     "output_type": "stream",
     "text": [
      "[1 2 3 4 5 6 7]\n"
     ]
    },
    {
     "data": {
      "text/plain": [
       "'For 1-d array axis=1 is out of bounds'"
      ]
     },
     "execution_count": 17,
     "metadata": {},
     "output_type": "execute_result"
    }
   ],
   "source": [
    "arr1=np.array([1,2,3,4])\n",
    "arr2=np.array([5,6,7])\n",
    "\n",
    "# By default axis=0\n",
    "arr=np.concatenate((arr1,arr2))\n",
    "print(arr)\n",
    "\n",
    "# Passing axis=1 (along rows)\n",
    "'''For 1-d array axis=1 is out of bounds'''\n",
    "# array=np.concatenate((arr1,arr2),axis=1) \n",
    "# print(array)\n",
    "\n"
   ]
  },
  {
   "cell_type": "code",
   "execution_count": 18,
   "metadata": {},
   "outputs": [
    {
     "name": "stdout",
     "output_type": "stream",
     "text": [
      "[[1 2]\n",
      " [3 4]\n",
      " [5 6]\n",
      " [7 8]]\n"
     ]
    }
   ],
   "source": [
    "arr1=np.array([[1,2],[3,4]])\n",
    "arr2=np.array([[5,6],[7,8]])\n",
    "\n",
    "arr=np.concatenate((arr1,arr2))\n",
    "print(arr)"
   ]
  },
  {
   "cell_type": "code",
   "execution_count": 19,
   "metadata": {},
   "outputs": [
    {
     "name": "stdout",
     "output_type": "stream",
     "text": [
      "[[1 2 5 6]\n",
      " [3 4 7 8]]\n"
     ]
    }
   ],
   "source": [
    "arr=np.concatenate((arr1,arr2),axis=1)\n",
    "print(arr)"
   ]
  },
  {
   "cell_type": "markdown",
   "metadata": {},
   "source": [
    "**Joining Arrays using Stack Functions**  \n",
    "*Stacking is same as concatenation, the only difference is that stacking is done along new axis.*  \n",
    "*We can concatenate 2 1-d array along second aixs which would result them putting one over other ie stacking.*  \n",
    "*Using stack() functions.*"
   ]
  },
  {
   "cell_type": "code",
   "execution_count": 20,
   "metadata": {},
   "outputs": [
    {
     "name": "stdout",
     "output_type": "stream",
     "text": [
      "[[1 2 3]\n",
      " [4 5 6]]\n",
      "2\n"
     ]
    }
   ],
   "source": [
    "arr1=np.array([1,2,3])\n",
    "arr2=np.array([4,5,6])\n",
    "\n",
    "# stacking along columns\n",
    "\n",
    "arr=np.stack((arr1,arr2))\n",
    "print(arr)\n",
    "print(arr.ndim)"
   ]
  },
  {
   "cell_type": "code",
   "execution_count": 21,
   "metadata": {},
   "outputs": [
    {
     "name": "stdout",
     "output_type": "stream",
     "text": [
      "[[1 4]\n",
      " [2 5]\n",
      " [3 6]]\n",
      "2\n"
     ]
    }
   ],
   "source": [
    "# stacking along depth\n",
    "arr=np.stack((arr1,arr2),axis=1)\n",
    "print(arr)\n",
    "print(arr.ndim)"
   ]
  },
  {
   "cell_type": "markdown",
   "metadata": {},
   "source": [
    "**Stacking along rows**"
   ]
  },
  {
   "cell_type": "code",
   "execution_count": 22,
   "metadata": {},
   "outputs": [
    {
     "name": "stdout",
     "output_type": "stream",
     "text": [
      "[1 2 3 4 5 6]\n",
      "1\n"
     ]
    }
   ],
   "source": [
    "arr=np.hstack((arr1,arr2))\n",
    "print(arr)\n",
    "print(arr.ndim)"
   ]
  },
  {
   "cell_type": "markdown",
   "metadata": {},
   "source": [
    "**Stacking along columns**"
   ]
  },
  {
   "cell_type": "code",
   "execution_count": 23,
   "metadata": {},
   "outputs": [
    {
     "name": "stdout",
     "output_type": "stream",
     "text": [
      "[[1 2 3]\n",
      " [4 5 6]]\n",
      "2\n"
     ]
    }
   ],
   "source": [
    "arr=np.vstack((arr1,arr2))\n",
    "print(arr)\n",
    "print(arr.ndim)"
   ]
  },
  {
   "cell_type": "markdown",
   "metadata": {},
   "source": [
    "**Stacking along Depth**"
   ]
  },
  {
   "cell_type": "code",
   "execution_count": 24,
   "metadata": {},
   "outputs": [
    {
     "name": "stdout",
     "output_type": "stream",
     "text": [
      "[[[1 4]\n",
      "  [2 5]\n",
      "  [3 6]]]\n",
      "3\n"
     ]
    }
   ],
   "source": [
    "arr=np.dstack((arr1,arr2))\n",
    "print(arr)\n",
    "print(arr.ndim)"
   ]
  }
 ],
 "metadata": {
  "kernelspec": {
   "display_name": "Python 3",
   "language": "python",
   "name": "python3"
  },
  "language_info": {
   "codemirror_mode": {
    "name": "ipython",
    "version": 3
   },
   "file_extension": ".py",
   "mimetype": "text/x-python",
   "name": "python",
   "nbconvert_exporter": "python",
   "pygments_lexer": "ipython3",
   "version": "3.10.9"
  }
 },
 "nbformat": 4,
 "nbformat_minor": 2
}
