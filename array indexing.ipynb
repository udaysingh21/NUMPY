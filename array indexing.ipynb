{
 "cells": [
  {
   "cell_type": "markdown",
   "metadata": {},
   "source": [
    "# Array Indexing\n"
   ]
  },
  {
   "cell_type": "markdown",
   "metadata": {},
   "source": [
    "*Array indexing is same as accessing an array element.*  \n",
    "*You can access an array element by referring to its index numbers.*  \n",
    "*Numpy array supports both 0-based as well as negative indexing.*"
   ]
  },
  {
   "cell_type": "markdown",
   "metadata": {},
   "source": [
    "**Access 1-d array**"
   ]
  },
  {
   "cell_type": "code",
   "execution_count": 2,
   "metadata": {},
   "outputs": [],
   "source": [
    "import numpy as np"
   ]
  },
  {
   "cell_type": "code",
   "execution_count": 3,
   "metadata": {},
   "outputs": [
    {
     "name": "stdout",
     "output_type": "stream",
     "text": [
      "['1' '2' '3' '4' 'a']\n",
      "<class 'numpy.ndarray'>\n"
     ]
    }
   ],
   "source": [
    "arr=np.array([1,2,3,4,'a'])\n",
    "print(arr)\n",
    "print(type(arr))\n",
    "\n",
    "# Upcasting is explained here\n",
    "# Note: In Numpy, each array should have ideally the same data type for each element.\n",
    "# But if array have different type of element then numpy will automatically promote the datatype of  array element to ensure consistency, this is \n",
    "# This is done in order to efficiently allocate memory and perform operations on the array. \n",
    "# example: int + float , every element will be promoted to float data type [1,2,3,4.3,4.8] = [1.0,2.0,3.0,4.3,3.8]\n",
    "# example: int + str , every element will be promoted to string data type [1,2,3,4,'a'] = ['1','2','3','4','a']"
   ]
  },
  {
   "cell_type": "code",
   "execution_count": 4,
   "metadata": {},
   "outputs": [
    {
     "name": "stdout",
     "output_type": "stream",
     "text": [
      "1\n",
      "<class 'numpy.str_'>\n",
      "4\n",
      "<class 'numpy.str_'>\n",
      "14\n",
      "1a\n"
     ]
    }
   ],
   "source": [
    "print(arr[0])\n",
    "print(type(arr[0]))\n",
    "\n",
    "print(arr[-2])\n",
    "print(type(arr[-2]))\n",
    "\n",
    "print(arr[0]+arr[-2])\n",
    "print(arr[0]+arr[-1])"
   ]
  },
  {
   "cell_type": "markdown",
   "metadata": {},
   "source": [
    "**Accessing 2-d array (matrix)**"
   ]
  },
  {
   "cell_type": "code",
   "execution_count": 5,
   "metadata": {},
   "outputs": [
    {
     "name": "stdout",
     "output_type": "stream",
     "text": [
      "[[1 2 3]\n",
      " [4 5 6]\n",
      " [7 8 9]]\n",
      "<class 'numpy.ndarray'>\n",
      "2\n"
     ]
    }
   ],
   "source": [
    "matrix=np.array([[1,2,3],[4,5,6],[7,8,9]])\n",
    "print(matrix)\n",
    "print(type(matrix))\n",
    "print(matrix.ndim)"
   ]
  },
  {
   "cell_type": "code",
   "execution_count": 10,
   "metadata": {},
   "outputs": [
    {
     "name": "stdout",
     "output_type": "stream",
     "text": [
      "2\n",
      "6\n",
      "7\n",
      "[[ 1  2  3]\n",
      " [ 4  5  6]\n",
      " [ 7  8 15]]\n"
     ]
    }
   ],
   "source": [
    "print(matrix[0,1]) #[row,column] == [dimensions,index]\n",
    "print(matrix[1,2])\n",
    "print(matrix[2,0])\n",
    "\n",
    "matrix[2,2]=matrix[0,1]+matrix[1,2]+matrix[2,0]\n",
    "print(matrix)"
   ]
  },
  {
   "cell_type": "markdown",
   "metadata": {},
   "source": [
    "**Accessing 3-d array**  \n",
    "*An array that has 2d array as its element is called 3d array*"
   ]
  },
  {
   "cell_type": "code",
   "execution_count": 25,
   "metadata": {},
   "outputs": [
    {
     "name": "stdout",
     "output_type": "stream",
     "text": [
      "3\n",
      "<class 'numpy.ndarray'>\n",
      "3\n",
      "10\n",
      "18\n",
      "31\n",
      "9\n",
      "4\n"
     ]
    }
   ],
   "source": [
    "cube=np.array([\n",
    "    [[1,2,3],[4,5,6]],\n",
    "    [[7,8,9],[10,11,12]],\n",
    "    [[13,14,15],[16,17,18]]\n",
    "])\n",
    "print(cube.ndim)\n",
    "print(type(cube))\n",
    "\n",
    "print(cube[0,0,2])\n",
    "print(cube[1,1,0])\n",
    "print(cube[2,1,2])\n",
    "\n",
    "cube[2,1,1]=cube[0,0,2]+cube[1,1,0]+cube[2,1,2]\n",
    "print(cube[-1,-1,-2])\n",
    "print(cube[-2,-2,-1])\n",
    "print(cube[-3,-1,-3])"
   ]
  }
 ],
 "metadata": {
  "kernelspec": {
   "display_name": "Python 3",
   "language": "python",
   "name": "python3"
  },
  "language_info": {
   "codemirror_mode": {
    "name": "ipython",
    "version": 3
   },
   "file_extension": ".py",
   "mimetype": "text/x-python",
   "name": "python",
   "nbconvert_exporter": "python",
   "pygments_lexer": "ipython3",
   "version": "3.10.9"
  }
 },
 "nbformat": 4,
 "nbformat_minor": 2
}
