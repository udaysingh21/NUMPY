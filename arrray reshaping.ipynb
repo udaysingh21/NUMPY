{
 "cells": [
  {
   "cell_type": "markdown",
   "metadata": {},
   "source": [
    "# ARRAY RESHAPE  \n",
    "*Reshaping means changing the shape of array.*  \n",
    "*The shape of an array is the number of elements in each dimensions.*  \n",
    "*By reshaping, we can add or remove the dimension or change number of elements in each dimensions.*"
   ]
  },
  {
   "cell_type": "markdown",
   "metadata": {},
   "source": [
    "**Reshaping 1-d array to 2-d array**"
   ]
  },
  {
   "cell_type": "code",
   "execution_count": 21,
   "metadata": {},
   "outputs": [],
   "source": [
    "import numpy as np"
   ]
  },
  {
   "cell_type": "code",
   "execution_count": 22,
   "metadata": {},
   "outputs": [
    {
     "name": "stdout",
     "output_type": "stream",
     "text": [
      "1\n",
      "2\n",
      "[1 2 3 4 5 6]\n",
      "[[1 2]\n",
      " [3 4]\n",
      " [5 6]]\n",
      "None\n",
      "[1 2 3 4 5 6]\n",
      "[[  1   2]\n",
      " [  3   4]\n",
      " [189   6]]\n",
      "[  1   2   3   4 189   6]\n"
     ]
    }
   ],
   "source": [
    "arr=np.array([1,2,3,4,5,6])\n",
    "newarr=arr.reshape(3,2)\n",
    "# newarr=arr.reshape(2,2) # ValueError: cannot reshape array of size 6 into shape (2,2)\n",
    "\n",
    "print(arr.ndim)\n",
    "print(newarr.ndim)\n",
    "\n",
    "print(arr)\n",
    "print(newarr)\n",
    "\n",
    "print(arr.base)\n",
    "print(newarr.base) # it means reshape gives view of original array, hence any changes in view will also be reflected in original array and vice-versa.\n",
    "\n",
    "newarr[2][0]=189\n",
    "print(newarr)\n",
    "print(arr)"
   ]
  },
  {
   "cell_type": "markdown",
   "metadata": {},
   "source": [
    "**Unknow dimension**  \n",
    "*We are allowed to have one 'unknown' dimension.*  \n",
    "*Meaning that you don't have to specify an exact number for one of the dimensions in the reshape method.*  \n",
    "*Pass -1 , and numpy will calculate unknown dimension for you.*  \n",
    "*We cannot pass -1 to more than one dimensions.*"
   ]
  },
  {
   "cell_type": "markdown",
   "metadata": {},
   "source": [
    "**Reshape 1-d array to 3-d array**"
   ]
  },
  {
   "cell_type": "code",
   "execution_count": 26,
   "metadata": {},
   "outputs": [
    {
     "name": "stdout",
     "output_type": "stream",
     "text": [
      "[ 1  2  3  4  5  6  7  8  9 10 11 12]\n",
      "[[[ 1  2]\n",
      "  [ 3  4]]\n",
      "\n",
      " [[ 5  6]\n",
      "  [ 7  8]]\n",
      "\n",
      " [[ 9 10]\n",
      "  [11 12]]]\n",
      "1\n",
      "3\n",
      "None\n",
      "[ 1  2  3  4  5  6  7  8  9 10 11 12]\n",
      "[[[ 1  2  3]\n",
      "  [ 4  5  6]]\n",
      "\n",
      " [[ 7  8  9]\n",
      "  [10 11 12]]]\n",
      "[ 1  2  3  4  5  6  7  8  9 10 11 12]\n",
      "[ 1  2  3  4  5  6  7  8  9 10 11 12]\n"
     ]
    }
   ],
   "source": [
    "array=np.array([1,2,3,4,5,6,7,8,9,10,11,12])\n",
    "cube=array.reshape(3,2,2)\n",
    "\n",
    "print(array)\n",
    "print(cube)\n",
    "\n",
    "print(array.ndim)\n",
    "print(cube.ndim)\n",
    "\n",
    "print(array.base)\n",
    "print(cube.base) # it is a view of original array\n",
    "\n",
    "cubic=array.reshape(-1,2,3) # -1 is unknown dimension , so numpy will caluclate it for me.\n",
    "print(cubic)\n",
    "\n",
    "# Flattening a 1-d array\n",
    "\n",
    "arr1=cubic.flatten()\n",
    "print(arr1)\n",
    "\n",
    "arr1=cube.reshape(-1)\n",
    "print(arr1)"
   ]
  }
 ],
 "metadata": {
  "kernelspec": {
   "display_name": "Python 3",
   "language": "python",
   "name": "python3"
  },
  "language_info": {
   "codemirror_mode": {
    "name": "ipython",
    "version": 3
   },
   "file_extension": ".py",
   "mimetype": "text/x-python",
   "name": "python",
   "nbconvert_exporter": "python",
   "pygments_lexer": "ipython3",
   "version": "3.10.9"
  }
 },
 "nbformat": 4,
 "nbformat_minor": 2
}
