{
 "cells": [
  {
   "cell_type": "markdown",
   "metadata": {},
   "source": [
    "**Tensor**  \n",
    "*It is a fundamental concept in Linear Algebra for any kind of ML algorithms.*  \n",
    "*In maths, a Tensor is an algebraic object that describes a mutli-linear relation between sets of algebraic object related to vector space.*  \n",
    "*Scalar - 0-d Tensor - value*  \n",
    "*Vector - 1-d Tensor - array*  \n",
    "*Matrix - 2-d Tensor - matrix*  \n",
    "*Cube - 3-d Tensor - cube*  "
   ]
  },
  {
   "cell_type": "markdown",
   "metadata": {},
   "source": [
    "# Arrays"
   ]
  },
  {
   "cell_type": "markdown",
   "metadata": {},
   "source": [
    "*Numpy is used to work with arrays. The array object in Numpy is called  ndarray.*  \n",
    "*We can create ndarray using array() function*"
   ]
  },
  {
   "cell_type": "code",
   "execution_count": 1,
   "metadata": {},
   "outputs": [],
   "source": [
    "import numpy as np "
   ]
  },
  {
   "cell_type": "code",
   "execution_count": 3,
   "metadata": {},
   "outputs": [
    {
     "name": "stdout",
     "output_type": "stream",
     "text": [
      "[1 2 3 4 5]\n",
      "<class 'numpy.ndarray'>\n"
     ]
    }
   ],
   "source": [
    "arr=np.array([1,2,3,4,5])\n",
    "print(arr)\n",
    "print(type(arr))"
   ]
  },
  {
   "cell_type": "code",
   "execution_count": 4,
   "metadata": {},
   "outputs": [
    {
     "name": "stdout",
     "output_type": "stream",
     "text": [
      "[1 2 3 4]\n",
      "<class 'numpy.ndarray'>\n"
     ]
    }
   ],
   "source": [
    "# We can also pass Tuple in array()\n",
    "array=np.array((1,2,3,4,))\n",
    "print(array)\n",
    "print(type(array))"
   ]
  },
  {
   "cell_type": "markdown",
   "metadata": {},
   "source": [
    "**Dimension - A dimension in arrays is one level of array depth (nested arrays).**"
   ]
  },
  {
   "cell_type": "markdown",
   "metadata": {},
   "source": [
    "**0-d arrays - SCALARS**"
   ]
  },
  {
   "cell_type": "code",
   "execution_count": 6,
   "metadata": {},
   "outputs": [
    {
     "name": "stdout",
     "output_type": "stream",
     "text": [
      "27\n",
      "<class 'numpy.ndarray'>\n",
      "()\n"
     ]
    }
   ],
   "source": [
    "scalar=np.array(27)\n",
    "print(scalar)\n",
    "print(type(scalar))\n",
    "print(scalar.shape)"
   ]
  },
  {
   "cell_type": "markdown",
   "metadata": {},
   "source": [
    "**1-d arrays - Arrays**  \n",
    "*An array that has 0-d array as its elements is called 1-d arrays*"
   ]
  },
  {
   "cell_type": "code",
   "execution_count": 7,
   "metadata": {},
   "outputs": [
    {
     "name": "stdout",
     "output_type": "stream",
     "text": [
      "[10 20 30 40 50]\n",
      "<class 'numpy.ndarray'>\n",
      "(5,)\n"
     ]
    }
   ],
   "source": [
    "arr1=np.array([10,20,30,40,50])\n",
    "print(arr1)\n",
    "print(type(arr1))\n",
    "print(arr1.shape)"
   ]
  },
  {
   "cell_type": "markdown",
   "metadata": {},
   "source": [
    "**2-d arrays - Matrix**  \n",
    "*An array that has 1-d array as its element is called is called 2-d arrays.*"
   ]
  },
  {
   "cell_type": "code",
   "execution_count": 8,
   "metadata": {},
   "outputs": [
    {
     "name": "stdout",
     "output_type": "stream",
     "text": [
      "[[1 2 3]\n",
      " [4 5 6]]\n",
      "<class 'numpy.ndarray'>\n",
      "(2, 3)\n"
     ]
    }
   ],
   "source": [
    "matrix=np.array([[1,2,3],[4,5,6]])\n",
    "print(matrix)\n",
    "print(type(matrix))\n",
    "print(matrix.shape)"
   ]
  },
  {
   "cell_type": "markdown",
   "metadata": {},
   "source": [
    "**3-d arrays - Cube**  \n",
    "*An array that has 2-d array as its element is called is called 3-d array.*"
   ]
  },
  {
   "cell_type": "code",
   "execution_count": 10,
   "metadata": {},
   "outputs": [
    {
     "name": "stdout",
     "output_type": "stream",
     "text": [
      "[[['1' '2' '3']\n",
      "  ['4' '5' '6']]\n",
      "\n",
      " [['a' 'b' 'c']\n",
      "  ['c' 'd' 'e']]]\n",
      "<class 'numpy.ndarray'>\n",
      "(2, 2, 3)\n"
     ]
    }
   ],
   "source": [
    "cube=np.array([[[1,2,3],[4,5,6]],[['a','b','c'],['c','d','e']]])\n",
    "print(cube)\n",
    "print(type(cube))\n",
    "print(cube.shape) # (2,2,3) it means there are 2 tables(2-d array/matrix) each with 2 rows and 3 columns"
   ]
  },
  {
   "cell_type": "markdown",
   "metadata": {},
   "source": [
    "**Check number of dimensions**"
   ]
  },
  {
   "cell_type": "code",
   "execution_count": 11,
   "metadata": {},
   "outputs": [
    {
     "name": "stdout",
     "output_type": "stream",
     "text": [
      "1\n",
      "1\n",
      "1\n",
      "0\n",
      "2\n",
      "3\n"
     ]
    }
   ],
   "source": [
    "print(arr.ndim)\n",
    "print(arr1.ndim)\n",
    "print(array.ndim)\n",
    "print(scalar.ndim)\n",
    "print(matrix.ndim)\n",
    "print(cube.ndim)"
   ]
  },
  {
   "cell_type": "markdown",
   "metadata": {},
   "source": [
    "**Higher Dimensional Arrays**  \n",
    "*An array can have any number of dimensions.*\n",
    "*When an array is created you can define the number of dimensions using ndmin() argument.*"
   ]
  },
  {
   "cell_type": "code",
   "execution_count": 14,
   "metadata": {},
   "outputs": [
    {
     "name": "stdout",
     "output_type": "stream",
     "text": [
      "[[[[[1 2 3 4 5]]]]]\n",
      "<class 'numpy.ndarray'>\n",
      "(1, 1, 1, 1, 5)\n"
     ]
    }
   ],
   "source": [
    "ndim_array=np.array([1,2,3,4,5],ndmin=5)\n",
    "print(ndim_array)\n",
    "print(type(ndim_array))\n",
    "print(ndim_array.shape) # (1,1,1,1,5) first d has 1 element 2nd d has 1 element....last d has 5 elements"
   ]
  }
 ],
 "metadata": {
  "kernelspec": {
   "display_name": "Python 3",
   "language": "python",
   "name": "python3"
  },
  "language_info": {
   "codemirror_mode": {
    "name": "ipython",
    "version": 3
   },
   "file_extension": ".py",
   "mimetype": "text/x-python",
   "name": "python",
   "nbconvert_exporter": "python",
   "pygments_lexer": "ipython3",
   "version": "3.10.9"
  }
 },
 "nbformat": 4,
 "nbformat_minor": 2
}
